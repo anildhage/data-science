{
 "cells": [
  {
   "cell_type": "code",
   "execution_count": 1,
   "metadata": {},
   "outputs": [],
   "source": [
    "import pandas as pd\n",
    "import matplotlib as plt\n",
    "import numpy as np"
   ]
  },
  {
   "cell_type": "code",
   "execution_count": 2,
   "metadata": {},
   "outputs": [],
   "source": [
    "#Unzip wgnd_langctry.csv.zip and load read the csv\n",
    "df = pd.read_csv('wgnd_langctry.csv', usecols=['name', 'gender', 'code'])\n",
    "# df = pd.read_csv('wgnd_langctry.csv')"
   ]
  },
  {
   "cell_type": "code",
   "execution_count": 260,
   "metadata": {},
   "outputs": [
    {
     "data": {
      "text/html": [
       "<div>\n",
       "<style scoped>\n",
       "    .dataframe tbody tr th:only-of-type {\n",
       "        vertical-align: middle;\n",
       "    }\n",
       "\n",
       "    .dataframe tbody tr th {\n",
       "        vertical-align: top;\n",
       "    }\n",
       "\n",
       "    .dataframe thead th {\n",
       "        text-align: right;\n",
       "    }\n",
       "</style>\n",
       "<table border=\"1\" class=\"dataframe\">\n",
       "  <thead>\n",
       "    <tr style=\"text-align: right;\">\n",
       "      <th></th>\n",
       "      <th>name</th>\n",
       "      <th>gender</th>\n",
       "      <th>code</th>\n",
       "    </tr>\n",
       "  </thead>\n",
       "  <tbody>\n",
       "    <tr>\n",
       "      <th>0</th>\n",
       "      <td>A HANNAN</td>\n",
       "      <td>M</td>\n",
       "      <td>CF</td>\n",
       "    </tr>\n",
       "    <tr>\n",
       "      <th>1</th>\n",
       "      <td>A HANNAN</td>\n",
       "      <td>M</td>\n",
       "      <td>BJ</td>\n",
       "    </tr>\n",
       "    <tr>\n",
       "      <th>2</th>\n",
       "      <td>A HANNAN</td>\n",
       "      <td>M</td>\n",
       "      <td>TD</td>\n",
       "    </tr>\n",
       "    <tr>\n",
       "      <th>3</th>\n",
       "      <td>A HANNAN</td>\n",
       "      <td>M</td>\n",
       "      <td>TG</td>\n",
       "    </tr>\n",
       "    <tr>\n",
       "      <th>4</th>\n",
       "      <td>A HANNAN</td>\n",
       "      <td>M</td>\n",
       "      <td>BE</td>\n",
       "    </tr>\n",
       "  </tbody>\n",
       "</table>\n",
       "</div>"
      ],
      "text/plain": [
       "       name gender code\n",
       "0  A HANNAN      M   CF\n",
       "1  A HANNAN      M   BJ\n",
       "2  A HANNAN      M   TD\n",
       "3  A HANNAN      M   TG\n",
       "4  A HANNAN      M   BE"
      ]
     },
     "execution_count": 260,
     "metadata": {},
     "output_type": "execute_result"
    }
   ],
   "source": [
    "df.head()"
   ]
  },
  {
   "cell_type": "code",
   "execution_count": 215,
   "metadata": {},
   "outputs": [
    {
     "data": {
      "text/plain": [
       "(6277039, 3)"
      ]
     },
     "execution_count": 215,
     "metadata": {},
     "output_type": "execute_result"
    }
   ],
   "source": [
    "df.shape"
   ]
  },
  {
   "cell_type": "code",
   "execution_count": 216,
   "metadata": {},
   "outputs": [],
   "source": [
    "# df = df.drop_duplicates(subset= ['name','gender'] , keep='first')"
   ]
  },
  {
   "cell_type": "code",
   "execution_count": 217,
   "metadata": {},
   "outputs": [],
   "source": [
    "df = df.dropna()"
   ]
  },
  {
   "cell_type": "code",
   "execution_count": 218,
   "metadata": {},
   "outputs": [
    {
     "data": {
      "text/plain": [
       "(6277003, 3)"
      ]
     },
     "execution_count": 218,
     "metadata": {},
     "output_type": "execute_result"
    }
   ],
   "source": [
    "df.shape"
   ]
  },
  {
   "cell_type": "code",
   "execution_count": 219,
   "metadata": {},
   "outputs": [],
   "source": [
    "df['first_name'] = df['name'].str.split(' ').str[0]"
   ]
  },
  {
   "cell_type": "code",
   "execution_count": 220,
   "metadata": {},
   "outputs": [
    {
     "data": {
      "text/html": [
       "<div>\n",
       "<style scoped>\n",
       "    .dataframe tbody tr th:only-of-type {\n",
       "        vertical-align: middle;\n",
       "    }\n",
       "\n",
       "    .dataframe tbody tr th {\n",
       "        vertical-align: top;\n",
       "    }\n",
       "\n",
       "    .dataframe thead th {\n",
       "        text-align: right;\n",
       "    }\n",
       "</style>\n",
       "<table border=\"1\" class=\"dataframe\">\n",
       "  <thead>\n",
       "    <tr style=\"text-align: right;\">\n",
       "      <th></th>\n",
       "      <th>name</th>\n",
       "      <th>gender</th>\n",
       "      <th>code</th>\n",
       "      <th>first_name</th>\n",
       "    </tr>\n",
       "  </thead>\n",
       "  <tbody>\n",
       "    <tr>\n",
       "      <th>0</th>\n",
       "      <td>A HANNAN</td>\n",
       "      <td>M</td>\n",
       "      <td>CF</td>\n",
       "      <td>A</td>\n",
       "    </tr>\n",
       "    <tr>\n",
       "      <th>1</th>\n",
       "      <td>A HANNAN</td>\n",
       "      <td>M</td>\n",
       "      <td>BJ</td>\n",
       "      <td>A</td>\n",
       "    </tr>\n",
       "    <tr>\n",
       "      <th>2</th>\n",
       "      <td>A HANNAN</td>\n",
       "      <td>M</td>\n",
       "      <td>TD</td>\n",
       "      <td>A</td>\n",
       "    </tr>\n",
       "    <tr>\n",
       "      <th>3</th>\n",
       "      <td>A HANNAN</td>\n",
       "      <td>M</td>\n",
       "      <td>TG</td>\n",
       "      <td>A</td>\n",
       "    </tr>\n",
       "    <tr>\n",
       "      <th>4</th>\n",
       "      <td>A HANNAN</td>\n",
       "      <td>M</td>\n",
       "      <td>BE</td>\n",
       "      <td>A</td>\n",
       "    </tr>\n",
       "  </tbody>\n",
       "</table>\n",
       "</div>"
      ],
      "text/plain": [
       "       name gender code first_name\n",
       "0  A HANNAN      M   CF          A\n",
       "1  A HANNAN      M   BJ          A\n",
       "2  A HANNAN      M   TD          A\n",
       "3  A HANNAN      M   TG          A\n",
       "4  A HANNAN      M   BE          A"
      ]
     },
     "execution_count": 220,
     "metadata": {},
     "output_type": "execute_result"
    }
   ],
   "source": [
    "df.head()"
   ]
  },
  {
   "cell_type": "code",
   "execution_count": 221,
   "metadata": {},
   "outputs": [],
   "source": [
    "def split_join_lastname(name):\n",
    "    name_list = name.split(' ')\n",
    "    return ' '.join(name_list[1:])"
   ]
  },
  {
   "cell_type": "code",
   "execution_count": 222,
   "metadata": {},
   "outputs": [],
   "source": [
    "df['last_name'] = df['name'].apply(split_join_lastname)"
   ]
  },
  {
   "cell_type": "code",
   "execution_count": 223,
   "metadata": {},
   "outputs": [],
   "source": [
    "df.reset_index(inplace=True)"
   ]
  },
  {
   "cell_type": "code",
   "execution_count": 224,
   "metadata": {},
   "outputs": [
    {
     "data": {
      "text/html": [
       "<div>\n",
       "<style scoped>\n",
       "    .dataframe tbody tr th:only-of-type {\n",
       "        vertical-align: middle;\n",
       "    }\n",
       "\n",
       "    .dataframe tbody tr th {\n",
       "        vertical-align: top;\n",
       "    }\n",
       "\n",
       "    .dataframe thead th {\n",
       "        text-align: right;\n",
       "    }\n",
       "</style>\n",
       "<table border=\"1\" class=\"dataframe\">\n",
       "  <thead>\n",
       "    <tr style=\"text-align: right;\">\n",
       "      <th></th>\n",
       "      <th>index</th>\n",
       "      <th>name</th>\n",
       "      <th>gender</th>\n",
       "      <th>code</th>\n",
       "      <th>first_name</th>\n",
       "      <th>last_name</th>\n",
       "    </tr>\n",
       "  </thead>\n",
       "  <tbody>\n",
       "    <tr>\n",
       "      <th>0</th>\n",
       "      <td>0</td>\n",
       "      <td>A HANNAN</td>\n",
       "      <td>M</td>\n",
       "      <td>CF</td>\n",
       "      <td>A</td>\n",
       "      <td>HANNAN</td>\n",
       "    </tr>\n",
       "    <tr>\n",
       "      <th>1</th>\n",
       "      <td>1</td>\n",
       "      <td>A HANNAN</td>\n",
       "      <td>M</td>\n",
       "      <td>BJ</td>\n",
       "      <td>A</td>\n",
       "      <td>HANNAN</td>\n",
       "    </tr>\n",
       "    <tr>\n",
       "      <th>2</th>\n",
       "      <td>2</td>\n",
       "      <td>A HANNAN</td>\n",
       "      <td>M</td>\n",
       "      <td>TD</td>\n",
       "      <td>A</td>\n",
       "      <td>HANNAN</td>\n",
       "    </tr>\n",
       "    <tr>\n",
       "      <th>3</th>\n",
       "      <td>3</td>\n",
       "      <td>A HANNAN</td>\n",
       "      <td>M</td>\n",
       "      <td>TG</td>\n",
       "      <td>A</td>\n",
       "      <td>HANNAN</td>\n",
       "    </tr>\n",
       "    <tr>\n",
       "      <th>4</th>\n",
       "      <td>4</td>\n",
       "      <td>A HANNAN</td>\n",
       "      <td>M</td>\n",
       "      <td>BE</td>\n",
       "      <td>A</td>\n",
       "      <td>HANNAN</td>\n",
       "    </tr>\n",
       "  </tbody>\n",
       "</table>\n",
       "</div>"
      ],
      "text/plain": [
       "   index      name gender code first_name last_name\n",
       "0      0  A HANNAN      M   CF          A    HANNAN\n",
       "1      1  A HANNAN      M   BJ          A    HANNAN\n",
       "2      2  A HANNAN      M   TD          A    HANNAN\n",
       "3      3  A HANNAN      M   TG          A    HANNAN\n",
       "4      4  A HANNAN      M   BE          A    HANNAN"
      ]
     },
     "execution_count": 224,
     "metadata": {},
     "output_type": "execute_result"
    }
   ],
   "source": [
    "df.head()"
   ]
  },
  {
   "cell_type": "code",
   "execution_count": 225,
   "metadata": {},
   "outputs": [],
   "source": [
    "df.drop(columns='index', inplace=True)"
   ]
  },
  {
   "cell_type": "code",
   "execution_count": 226,
   "metadata": {},
   "outputs": [
    {
     "data": {
      "text/html": [
       "<div>\n",
       "<style scoped>\n",
       "    .dataframe tbody tr th:only-of-type {\n",
       "        vertical-align: middle;\n",
       "    }\n",
       "\n",
       "    .dataframe tbody tr th {\n",
       "        vertical-align: top;\n",
       "    }\n",
       "\n",
       "    .dataframe thead th {\n",
       "        text-align: right;\n",
       "    }\n",
       "</style>\n",
       "<table border=\"1\" class=\"dataframe\">\n",
       "  <thead>\n",
       "    <tr style=\"text-align: right;\">\n",
       "      <th></th>\n",
       "      <th>name</th>\n",
       "      <th>gender</th>\n",
       "      <th>code</th>\n",
       "      <th>first_name</th>\n",
       "      <th>last_name</th>\n",
       "    </tr>\n",
       "  </thead>\n",
       "  <tbody>\n",
       "    <tr>\n",
       "      <th>0</th>\n",
       "      <td>A HANNAN</td>\n",
       "      <td>M</td>\n",
       "      <td>CF</td>\n",
       "      <td>A</td>\n",
       "      <td>HANNAN</td>\n",
       "    </tr>\n",
       "    <tr>\n",
       "      <th>1</th>\n",
       "      <td>A HANNAN</td>\n",
       "      <td>M</td>\n",
       "      <td>BJ</td>\n",
       "      <td>A</td>\n",
       "      <td>HANNAN</td>\n",
       "    </tr>\n",
       "    <tr>\n",
       "      <th>2</th>\n",
       "      <td>A HANNAN</td>\n",
       "      <td>M</td>\n",
       "      <td>TD</td>\n",
       "      <td>A</td>\n",
       "      <td>HANNAN</td>\n",
       "    </tr>\n",
       "    <tr>\n",
       "      <th>3</th>\n",
       "      <td>A HANNAN</td>\n",
       "      <td>M</td>\n",
       "      <td>TG</td>\n",
       "      <td>A</td>\n",
       "      <td>HANNAN</td>\n",
       "    </tr>\n",
       "    <tr>\n",
       "      <th>4</th>\n",
       "      <td>A HANNAN</td>\n",
       "      <td>M</td>\n",
       "      <td>BE</td>\n",
       "      <td>A</td>\n",
       "      <td>HANNAN</td>\n",
       "    </tr>\n",
       "  </tbody>\n",
       "</table>\n",
       "</div>"
      ],
      "text/plain": [
       "       name gender code first_name last_name\n",
       "0  A HANNAN      M   CF          A    HANNAN\n",
       "1  A HANNAN      M   BJ          A    HANNAN\n",
       "2  A HANNAN      M   TD          A    HANNAN\n",
       "3  A HANNAN      M   TG          A    HANNAN\n",
       "4  A HANNAN      M   BE          A    HANNAN"
      ]
     },
     "execution_count": 226,
     "metadata": {},
     "output_type": "execute_result"
    }
   ],
   "source": [
    "df.head()"
   ]
  },
  {
   "cell_type": "code",
   "execution_count": 227,
   "metadata": {},
   "outputs": [],
   "source": [
    "# df = df[['first_name', 'last_name', 'name', 'gender']]\n",
    "df.rename(columns={'name': 'raw_name'}, inplace=True)"
   ]
  },
  {
   "cell_type": "code",
   "execution_count": 228,
   "metadata": {},
   "outputs": [],
   "source": [
    "pd.set_option('max_rows', None)"
   ]
  },
  {
   "cell_type": "code",
   "execution_count": 229,
   "metadata": {},
   "outputs": [],
   "source": [
    "df = df.iloc[:6276056,:]"
   ]
  },
  {
   "cell_type": "code",
   "execution_count": 230,
   "metadata": {},
   "outputs": [],
   "source": [
    "df = df[['raw_name','first_name', 'last_name', 'gender']]"
   ]
  },
  {
   "cell_type": "code",
   "execution_count": 231,
   "metadata": {},
   "outputs": [
    {
     "data": {
      "text/html": [
       "<div>\n",
       "<style scoped>\n",
       "    .dataframe tbody tr th:only-of-type {\n",
       "        vertical-align: middle;\n",
       "    }\n",
       "\n",
       "    .dataframe tbody tr th {\n",
       "        vertical-align: top;\n",
       "    }\n",
       "\n",
       "    .dataframe thead th {\n",
       "        text-align: right;\n",
       "    }\n",
       "</style>\n",
       "<table border=\"1\" class=\"dataframe\">\n",
       "  <thead>\n",
       "    <tr style=\"text-align: right;\">\n",
       "      <th></th>\n",
       "      <th>raw_name</th>\n",
       "      <th>first_name</th>\n",
       "      <th>last_name</th>\n",
       "      <th>gender</th>\n",
       "    </tr>\n",
       "  </thead>\n",
       "  <tbody>\n",
       "    <tr>\n",
       "      <th>0</th>\n",
       "      <td>A HANNAN</td>\n",
       "      <td>A</td>\n",
       "      <td>HANNAN</td>\n",
       "      <td>M</td>\n",
       "    </tr>\n",
       "    <tr>\n",
       "      <th>1</th>\n",
       "      <td>A HANNAN</td>\n",
       "      <td>A</td>\n",
       "      <td>HANNAN</td>\n",
       "      <td>M</td>\n",
       "    </tr>\n",
       "    <tr>\n",
       "      <th>2</th>\n",
       "      <td>A HANNAN</td>\n",
       "      <td>A</td>\n",
       "      <td>HANNAN</td>\n",
       "      <td>M</td>\n",
       "    </tr>\n",
       "    <tr>\n",
       "      <th>3</th>\n",
       "      <td>A HANNAN</td>\n",
       "      <td>A</td>\n",
       "      <td>HANNAN</td>\n",
       "      <td>M</td>\n",
       "    </tr>\n",
       "    <tr>\n",
       "      <th>4</th>\n",
       "      <td>A HANNAN</td>\n",
       "      <td>A</td>\n",
       "      <td>HANNAN</td>\n",
       "      <td>M</td>\n",
       "    </tr>\n",
       "  </tbody>\n",
       "</table>\n",
       "</div>"
      ],
      "text/plain": [
       "   raw_name first_name last_name gender\n",
       "0  A HANNAN          A    HANNAN      M\n",
       "1  A HANNAN          A    HANNAN      M\n",
       "2  A HANNAN          A    HANNAN      M\n",
       "3  A HANNAN          A    HANNAN      M\n",
       "4  A HANNAN          A    HANNAN      M"
      ]
     },
     "execution_count": 231,
     "metadata": {},
     "output_type": "execute_result"
    }
   ],
   "source": [
    "# df.to_csv('temp.csv', index = False)\n",
    "df.head()\n",
    "# df.shape"
   ]
  },
  {
   "cell_type": "code",
   "execution_count": 74,
   "metadata": {},
   "outputs": [],
   "source": [
    "# sample1 = df.head(1000)"
   ]
  },
  {
   "cell_type": "code",
   "execution_count": 232,
   "metadata": {},
   "outputs": [
    {
     "data": {
      "text/html": [
       "<div>\n",
       "<style scoped>\n",
       "    .dataframe tbody tr th:only-of-type {\n",
       "        vertical-align: middle;\n",
       "    }\n",
       "\n",
       "    .dataframe tbody tr th {\n",
       "        vertical-align: top;\n",
       "    }\n",
       "\n",
       "    .dataframe thead th {\n",
       "        text-align: right;\n",
       "    }\n",
       "</style>\n",
       "<table border=\"1\" class=\"dataframe\">\n",
       "  <thead>\n",
       "    <tr style=\"text-align: right;\">\n",
       "      <th></th>\n",
       "      <th>raw_name</th>\n",
       "      <th>first_name</th>\n",
       "      <th>last_name</th>\n",
       "      <th>gender</th>\n",
       "      <th>Count</th>\n",
       "    </tr>\n",
       "  </thead>\n",
       "  <tbody>\n",
       "    <tr>\n",
       "      <th>0</th>\n",
       "      <td>A HANNAN</td>\n",
       "      <td>A</td>\n",
       "      <td>HANNAN</td>\n",
       "      <td>M</td>\n",
       "      <td>50</td>\n",
       "    </tr>\n",
       "    <tr>\n",
       "      <th>1</th>\n",
       "      <td>A JAY</td>\n",
       "      <td>A</td>\n",
       "      <td>JAY</td>\n",
       "      <td>M</td>\n",
       "      <td>50</td>\n",
       "    </tr>\n",
       "    <tr>\n",
       "      <th>2</th>\n",
       "      <td>A K I L</td>\n",
       "      <td>A</td>\n",
       "      <td>K I L</td>\n",
       "      <td>M</td>\n",
       "      <td>50</td>\n",
       "    </tr>\n",
       "    <tr>\n",
       "      <th>3</th>\n",
       "      <td>A LAH</td>\n",
       "      <td>A</td>\n",
       "      <td>LAH</td>\n",
       "      <td>F</td>\n",
       "      <td>50</td>\n",
       "    </tr>\n",
       "    <tr>\n",
       "      <th>4</th>\n",
       "      <td>A RIN</td>\n",
       "      <td>A</td>\n",
       "      <td>RIN</td>\n",
       "      <td>F</td>\n",
       "      <td>50</td>\n",
       "    </tr>\n",
       "  </tbody>\n",
       "</table>\n",
       "</div>"
      ],
      "text/plain": [
       "   raw_name first_name last_name gender  Count\n",
       "0  A HANNAN          A    HANNAN      M     50\n",
       "1     A JAY          A       JAY      M     50\n",
       "2   A K I L          A     K I L      M     50\n",
       "3     A LAH          A       LAH      F     50\n",
       "4     A RIN          A       RIN      F     50"
      ]
     },
     "execution_count": 232,
     "metadata": {},
     "output_type": "execute_result"
    }
   ],
   "source": [
    "df = df.groupby([\"raw_name\",\"first_name\", \"last_name\", 'gender']).size().reset_index(name=\"Count\")\n",
    "df.head()"
   ]
  },
  {
   "cell_type": "code",
   "execution_count": 239,
   "metadata": {},
   "outputs": [
    {
     "ename": "KeyError",
     "evalue": "\"None of ['raw_name', 'first_name', 'last_name', 'gender'] are in the columns\"",
     "output_type": "error",
     "traceback": [
      "\u001b[0;31m---------------------------------------------------------------------------\u001b[0m",
      "\u001b[0;31mKeyError\u001b[0m                                  Traceback (most recent call last)",
      "\u001b[0;32m<ipython-input-239-e6edf75d49cb>\u001b[0m in \u001b[0;36m<module>\u001b[0;34m\u001b[0m\n\u001b[0;32m----> 1\u001b[0;31m \u001b[0mdf\u001b[0m \u001b[0;34m=\u001b[0m \u001b[0mdf\u001b[0m\u001b[0;34m.\u001b[0m\u001b[0mset_index\u001b[0m\u001b[0;34m(\u001b[0m\u001b[0;34m[\u001b[0m\u001b[0;34m\"raw_name\"\u001b[0m\u001b[0;34m,\u001b[0m\u001b[0;34m\"first_name\"\u001b[0m\u001b[0;34m,\u001b[0m \u001b[0;34m\"last_name\"\u001b[0m\u001b[0;34m,\u001b[0m \u001b[0;34m'gender'\u001b[0m\u001b[0;34m]\u001b[0m\u001b[0;34m,\u001b[0m \u001b[0mdrop\u001b[0m\u001b[0;34m=\u001b[0m\u001b[0;32mTrue\u001b[0m\u001b[0;34m)\u001b[0m\u001b[0;34m.\u001b[0m\u001b[0munstack\u001b[0m\u001b[0;34m(\u001b[0m\u001b[0;34m'gender'\u001b[0m\u001b[0;34m)\u001b[0m\u001b[0;34m\u001b[0m\u001b[0;34m\u001b[0m\u001b[0m\n\u001b[0m",
      "\u001b[0;32m~/opt/anaconda3/lib/python3.8/site-packages/pandas/core/frame.py\u001b[0m in \u001b[0;36mset_index\u001b[0;34m(self, keys, drop, append, inplace, verify_integrity)\u001b[0m\n\u001b[1;32m   4301\u001b[0m \u001b[0;34m\u001b[0m\u001b[0m\n\u001b[1;32m   4302\u001b[0m         \u001b[0;32mif\u001b[0m \u001b[0mmissing\u001b[0m\u001b[0;34m:\u001b[0m\u001b[0;34m\u001b[0m\u001b[0;34m\u001b[0m\u001b[0m\n\u001b[0;32m-> 4303\u001b[0;31m             \u001b[0;32mraise\u001b[0m \u001b[0mKeyError\u001b[0m\u001b[0;34m(\u001b[0m\u001b[0;34mf\"None of {missing} are in the columns\"\u001b[0m\u001b[0;34m)\u001b[0m\u001b[0;34m\u001b[0m\u001b[0;34m\u001b[0m\u001b[0m\n\u001b[0m\u001b[1;32m   4304\u001b[0m \u001b[0;34m\u001b[0m\u001b[0m\n\u001b[1;32m   4305\u001b[0m         \u001b[0;32mif\u001b[0m \u001b[0minplace\u001b[0m\u001b[0;34m:\u001b[0m\u001b[0;34m\u001b[0m\u001b[0;34m\u001b[0m\u001b[0m\n",
      "\u001b[0;31mKeyError\u001b[0m: \"None of ['raw_name', 'first_name', 'last_name', 'gender'] are in the columns\""
     ]
    }
   ],
   "source": [
    "df = df.set_index([\"raw_name\",\"first_name\", \"last_name\", 'gender'], drop=True).unstack('gender')\n"
   ]
  },
  {
   "cell_type": "code",
   "execution_count": 241,
   "metadata": {},
   "outputs": [
    {
     "data": {
      "text/html": [
       "<div>\n",
       "<style scoped>\n",
       "    .dataframe tbody tr th:only-of-type {\n",
       "        vertical-align: middle;\n",
       "    }\n",
       "\n",
       "    .dataframe tbody tr th {\n",
       "        vertical-align: top;\n",
       "    }\n",
       "\n",
       "    .dataframe thead tr th {\n",
       "        text-align: left;\n",
       "    }\n",
       "\n",
       "    .dataframe thead tr:last-of-type th {\n",
       "        text-align: right;\n",
       "    }\n",
       "</style>\n",
       "<table border=\"1\" class=\"dataframe\">\n",
       "  <thead>\n",
       "    <tr>\n",
       "      <th></th>\n",
       "      <th></th>\n",
       "      <th></th>\n",
       "      <th colspan=\"2\" halign=\"left\">Count</th>\n",
       "    </tr>\n",
       "    <tr>\n",
       "      <th></th>\n",
       "      <th></th>\n",
       "      <th>gender</th>\n",
       "      <th>F</th>\n",
       "      <th>M</th>\n",
       "    </tr>\n",
       "    <tr>\n",
       "      <th>raw_name</th>\n",
       "      <th>first_name</th>\n",
       "      <th>last_name</th>\n",
       "      <th></th>\n",
       "      <th></th>\n",
       "    </tr>\n",
       "  </thead>\n",
       "  <tbody>\n",
       "    <tr>\n",
       "      <th>A HANNAN</th>\n",
       "      <th>A</th>\n",
       "      <th>HANNAN</th>\n",
       "      <td>NaN</td>\n",
       "      <td>50.0</td>\n",
       "    </tr>\n",
       "    <tr>\n",
       "      <th>A JAY</th>\n",
       "      <th>A</th>\n",
       "      <th>JAY</th>\n",
       "      <td>NaN</td>\n",
       "      <td>50.0</td>\n",
       "    </tr>\n",
       "    <tr>\n",
       "      <th>A K I L</th>\n",
       "      <th>A</th>\n",
       "      <th>K I L</th>\n",
       "      <td>NaN</td>\n",
       "      <td>50.0</td>\n",
       "    </tr>\n",
       "    <tr>\n",
       "      <th>A LAH</th>\n",
       "      <th>A</th>\n",
       "      <th>LAH</th>\n",
       "      <td>50.0</td>\n",
       "      <td>NaN</td>\n",
       "    </tr>\n",
       "    <tr>\n",
       "      <th>A RIN</th>\n",
       "      <th>A</th>\n",
       "      <th>RIN</th>\n",
       "      <td>50.0</td>\n",
       "      <td>NaN</td>\n",
       "    </tr>\n",
       "  </tbody>\n",
       "</table>\n",
       "</div>"
      ],
      "text/plain": [
       "                              Count      \n",
       "gender                            F     M\n",
       "raw_name first_name last_name            \n",
       "A HANNAN A          HANNAN      NaN  50.0\n",
       "A JAY    A          JAY         NaN  50.0\n",
       "A K I L  A          K I L       NaN  50.0\n",
       "A LAH    A          LAH        50.0   NaN\n",
       "A RIN    A          RIN        50.0   NaN"
      ]
     },
     "execution_count": 241,
     "metadata": {},
     "output_type": "execute_result"
    }
   ],
   "source": [
    "df.head()"
   ]
  },
  {
   "cell_type": "code",
   "execution_count": 103,
   "metadata": {},
   "outputs": [
    {
     "data": {
      "text/plain": [
       "       gender\n",
       "Count  F         float64\n",
       "       M         float64\n",
       "dtype: object"
      ]
     },
     "execution_count": 103,
     "metadata": {},
     "output_type": "execute_result"
    }
   ],
   "source": [
    "# test_file.head(3)\n",
    "# # test_file_columns = ['raw_name', 'first_name', 'last_name', 'f_count', 'm_count']\n",
    "# # test_file.columns = test_file_columns\n",
    "# # test_file.head(3)\n",
    "# test_file.shape\n",
    "# test_file.dtypes"
   ]
  },
  {
   "cell_type": "code",
   "execution_count": 242,
   "metadata": {},
   "outputs": [],
   "source": [
    "# df.to_csv('cleaned_Gender_count')"
   ]
  },
  {
   "cell_type": "code",
   "execution_count": 243,
   "metadata": {},
   "outputs": [
    {
     "name": "stderr",
     "output_type": "stream",
     "text": [
      "/Users/anildhage/opt/anaconda3/lib/python3.8/site-packages/IPython/core/interactiveshell.py:3071: DtypeWarning: Columns (3,4) have mixed types.Specify dtype option on import or set low_memory=False.\n",
      "  has_raised = await self.run_ast_nodes(code_ast.body, cell_name,\n"
     ]
    }
   ],
   "source": [
    "test_file_columns = ['raw_name', 'first_name', 'last_name', 'f_count', 'm_count']\n",
    "new_df = pd.read_csv('cleaned_Gender_count', names=  test_file_columns)\n",
    "new_df = new_df.drop(0).drop(1).drop(2)"
   ]
  },
  {
   "cell_type": "code",
   "execution_count": 244,
   "metadata": {},
   "outputs": [
    {
     "data": {
      "text/html": [
       "<div>\n",
       "<style scoped>\n",
       "    .dataframe tbody tr th:only-of-type {\n",
       "        vertical-align: middle;\n",
       "    }\n",
       "\n",
       "    .dataframe tbody tr th {\n",
       "        vertical-align: top;\n",
       "    }\n",
       "\n",
       "    .dataframe thead th {\n",
       "        text-align: right;\n",
       "    }\n",
       "</style>\n",
       "<table border=\"1\" class=\"dataframe\">\n",
       "  <thead>\n",
       "    <tr style=\"text-align: right;\">\n",
       "      <th></th>\n",
       "      <th>raw_name</th>\n",
       "      <th>first_name</th>\n",
       "      <th>last_name</th>\n",
       "      <th>f_count</th>\n",
       "      <th>m_count</th>\n",
       "    </tr>\n",
       "  </thead>\n",
       "  <tbody>\n",
       "    <tr>\n",
       "      <th>3</th>\n",
       "      <td>A HANNAN</td>\n",
       "      <td>A</td>\n",
       "      <td>HANNAN</td>\n",
       "      <td>NaN</td>\n",
       "      <td>50.0</td>\n",
       "    </tr>\n",
       "    <tr>\n",
       "      <th>4</th>\n",
       "      <td>A JAY</td>\n",
       "      <td>A</td>\n",
       "      <td>JAY</td>\n",
       "      <td>NaN</td>\n",
       "      <td>50.0</td>\n",
       "    </tr>\n",
       "    <tr>\n",
       "      <th>5</th>\n",
       "      <td>A K I L</td>\n",
       "      <td>A</td>\n",
       "      <td>K I L</td>\n",
       "      <td>NaN</td>\n",
       "      <td>50.0</td>\n",
       "    </tr>\n",
       "    <tr>\n",
       "      <th>6</th>\n",
       "      <td>A LAH</td>\n",
       "      <td>A</td>\n",
       "      <td>LAH</td>\n",
       "      <td>50.0</td>\n",
       "      <td>NaN</td>\n",
       "    </tr>\n",
       "    <tr>\n",
       "      <th>7</th>\n",
       "      <td>A RIN</td>\n",
       "      <td>A</td>\n",
       "      <td>RIN</td>\n",
       "      <td>50.0</td>\n",
       "      <td>NaN</td>\n",
       "    </tr>\n",
       "  </tbody>\n",
       "</table>\n",
       "</div>"
      ],
      "text/plain": [
       "   raw_name first_name last_name f_count m_count\n",
       "3  A HANNAN          A    HANNAN     NaN    50.0\n",
       "4     A JAY          A       JAY     NaN    50.0\n",
       "5   A K I L          A     K I L     NaN    50.0\n",
       "6     A LAH          A       LAH    50.0     NaN\n",
       "7     A RIN          A       RIN    50.0     NaN"
      ]
     },
     "execution_count": 244,
     "metadata": {},
     "output_type": "execute_result"
    }
   ],
   "source": [
    "new_df.head()"
   ]
  },
  {
   "cell_type": "code",
   "execution_count": 245,
   "metadata": {},
   "outputs": [],
   "source": [
    "new_df.reset_index(inplace=True)"
   ]
  },
  {
   "cell_type": "code",
   "execution_count": 246,
   "metadata": {},
   "outputs": [],
   "source": [
    "new_df.drop(columns='index', inplace=True)"
   ]
  },
  {
   "cell_type": "code",
   "execution_count": 247,
   "metadata": {},
   "outputs": [],
   "source": [
    "new_df.f_count.fillna('0', inplace=True)\n",
    "new_df.m_count.fillna('0', inplace=True)"
   ]
  },
  {
   "cell_type": "code",
   "execution_count": 248,
   "metadata": {},
   "outputs": [
    {
     "name": "stdout",
     "output_type": "stream",
     "text": [
      "<class 'pandas.core.frame.DataFrame'>\n",
      "RangeIndex: 174352 entries, 0 to 174351\n",
      "Data columns (total 5 columns):\n",
      " #   Column      Non-Null Count   Dtype \n",
      "---  ------      --------------   ----- \n",
      " 0   raw_name    174352 non-null  object\n",
      " 1   first_name  174347 non-null  object\n",
      " 2   last_name   14616 non-null   object\n",
      " 3   f_count     174352 non-null  object\n",
      " 4   m_count     174352 non-null  object\n",
      "dtypes: object(5)\n",
      "memory usage: 6.7+ MB\n"
     ]
    }
   ],
   "source": [
    "# new_df['f_count'] = new_df[\"f_count\"].astype('int')\n",
    "new_df.info()"
   ]
  },
  {
   "cell_type": "code",
   "execution_count": 250,
   "metadata": {},
   "outputs": [],
   "source": [
    "new_df[\"f_count\"] = new_df[\"f_count\"].astype(int)\n",
    "new_df[\"m_count\"] = new_df[\"m_count\"].astype(int)"
   ]
  },
  {
   "cell_type": "code",
   "execution_count": 251,
   "metadata": {},
   "outputs": [
    {
     "name": "stdout",
     "output_type": "stream",
     "text": [
      "<class 'pandas.core.frame.DataFrame'>\n",
      "RangeIndex: 174352 entries, 0 to 174351\n",
      "Data columns (total 5 columns):\n",
      " #   Column      Non-Null Count   Dtype \n",
      "---  ------      --------------   ----- \n",
      " 0   raw_name    174352 non-null  object\n",
      " 1   first_name  174347 non-null  object\n",
      " 2   last_name   14616 non-null   object\n",
      " 3   f_count     174352 non-null  int64 \n",
      " 4   m_count     174352 non-null  int64 \n",
      "dtypes: int64(2), object(3)\n",
      "memory usage: 6.7+ MB\n"
     ]
    }
   ],
   "source": [
    "new_df.info()"
   ]
  },
  {
   "cell_type": "code",
   "execution_count": 252,
   "metadata": {},
   "outputs": [
    {
     "data": {
      "text/html": [
       "<div>\n",
       "<style scoped>\n",
       "    .dataframe tbody tr th:only-of-type {\n",
       "        vertical-align: middle;\n",
       "    }\n",
       "\n",
       "    .dataframe tbody tr th {\n",
       "        vertical-align: top;\n",
       "    }\n",
       "\n",
       "    .dataframe thead th {\n",
       "        text-align: right;\n",
       "    }\n",
       "</style>\n",
       "<table border=\"1\" class=\"dataframe\">\n",
       "  <thead>\n",
       "    <tr style=\"text-align: right;\">\n",
       "      <th></th>\n",
       "      <th>raw_name</th>\n",
       "      <th>first_name</th>\n",
       "      <th>last_name</th>\n",
       "      <th>f_count</th>\n",
       "      <th>m_count</th>\n",
       "    </tr>\n",
       "  </thead>\n",
       "  <tbody>\n",
       "    <tr>\n",
       "      <th>0</th>\n",
       "      <td>A HANNAN</td>\n",
       "      <td>A</td>\n",
       "      <td>HANNAN</td>\n",
       "      <td>0</td>\n",
       "      <td>50</td>\n",
       "    </tr>\n",
       "    <tr>\n",
       "      <th>1</th>\n",
       "      <td>A JAY</td>\n",
       "      <td>A</td>\n",
       "      <td>JAY</td>\n",
       "      <td>0</td>\n",
       "      <td>50</td>\n",
       "    </tr>\n",
       "    <tr>\n",
       "      <th>2</th>\n",
       "      <td>A K I L</td>\n",
       "      <td>A</td>\n",
       "      <td>K I L</td>\n",
       "      <td>0</td>\n",
       "      <td>50</td>\n",
       "    </tr>\n",
       "    <tr>\n",
       "      <th>3</th>\n",
       "      <td>A LAH</td>\n",
       "      <td>A</td>\n",
       "      <td>LAH</td>\n",
       "      <td>50</td>\n",
       "      <td>0</td>\n",
       "    </tr>\n",
       "    <tr>\n",
       "      <th>4</th>\n",
       "      <td>A RIN</td>\n",
       "      <td>A</td>\n",
       "      <td>RIN</td>\n",
       "      <td>50</td>\n",
       "      <td>0</td>\n",
       "    </tr>\n",
       "  </tbody>\n",
       "</table>\n",
       "</div>"
      ],
      "text/plain": [
       "   raw_name first_name last_name  f_count  m_count\n",
       "0  A HANNAN          A    HANNAN        0       50\n",
       "1     A JAY          A       JAY        0       50\n",
       "2   A K I L          A     K I L        0       50\n",
       "3     A LAH          A       LAH       50        0\n",
       "4     A RIN          A       RIN       50        0"
      ]
     },
     "execution_count": 252,
     "metadata": {},
     "output_type": "execute_result"
    }
   ],
   "source": [
    "new_df.head()"
   ]
  },
  {
   "cell_type": "code",
   "execution_count": 255,
   "metadata": {},
   "outputs": [],
   "source": [
    "new_df.to_csv('cleaned_Gender_count.csv', index=False)"
   ]
  },
  {
   "cell_type": "code",
   "execution_count": null,
   "metadata": {},
   "outputs": [],
   "source": []
  },
  {
   "cell_type": "code",
   "execution_count": 50,
   "metadata": {},
   "outputs": [
    {
     "data": {
      "text/html": [
       "<div>\n",
       "<style scoped>\n",
       "    .dataframe tbody tr th:only-of-type {\n",
       "        vertical-align: middle;\n",
       "    }\n",
       "\n",
       "    .dataframe tbody tr th {\n",
       "        vertical-align: top;\n",
       "    }\n",
       "\n",
       "    .dataframe thead th {\n",
       "        text-align: right;\n",
       "    }\n",
       "</style>\n",
       "<table border=\"1\" class=\"dataframe\">\n",
       "  <thead>\n",
       "    <tr style=\"text-align: right;\">\n",
       "      <th></th>\n",
       "      <th>raw_name</th>\n",
       "      <th>first_name</th>\n",
       "      <th>last_name</th>\n",
       "      <th>gender</th>\n",
       "    </tr>\n",
       "  </thead>\n",
       "  <tbody>\n",
       "    <tr>\n",
       "      <th>71509</th>\n",
       "      <td>JAY</td>\n",
       "      <td>JAY</td>\n",
       "      <td></td>\n",
       "      <td>M</td>\n",
       "    </tr>\n",
       "    <tr>\n",
       "      <th>71510</th>\n",
       "      <td>JAY ALEX</td>\n",
       "      <td>JAY</td>\n",
       "      <td>ALEX</td>\n",
       "      <td>M</td>\n",
       "    </tr>\n",
       "    <tr>\n",
       "      <th>71511</th>\n",
       "      <td>JAY ANN</td>\n",
       "      <td>JAY</td>\n",
       "      <td>ANN</td>\n",
       "      <td>F</td>\n",
       "    </tr>\n",
       "    <tr>\n",
       "      <th>71512</th>\n",
       "      <td>JAY AR</td>\n",
       "      <td>JAY</td>\n",
       "      <td>AR</td>\n",
       "      <td>M</td>\n",
       "    </tr>\n",
       "    <tr>\n",
       "      <th>71513</th>\n",
       "      <td>JAY CHRISTOPHER</td>\n",
       "      <td>JAY</td>\n",
       "      <td>CHRISTOPHER</td>\n",
       "      <td>M</td>\n",
       "    </tr>\n",
       "    <tr>\n",
       "      <th>71514</th>\n",
       "      <td>JAY D</td>\n",
       "      <td>JAY</td>\n",
       "      <td>D</td>\n",
       "      <td>M</td>\n",
       "    </tr>\n",
       "    <tr>\n",
       "      <th>71515</th>\n",
       "      <td>JAY DE</td>\n",
       "      <td>JAY</td>\n",
       "      <td>DE</td>\n",
       "      <td>M</td>\n",
       "    </tr>\n",
       "    <tr>\n",
       "      <th>71516</th>\n",
       "      <td>JAY DEAN</td>\n",
       "      <td>JAY</td>\n",
       "      <td>DEAN</td>\n",
       "      <td>F</td>\n",
       "    </tr>\n",
       "    <tr>\n",
       "      <th>71517</th>\n",
       "      <td>JAY DEE</td>\n",
       "      <td>JAY</td>\n",
       "      <td>DEE</td>\n",
       "      <td>M</td>\n",
       "    </tr>\n",
       "    <tr>\n",
       "      <th>71518</th>\n",
       "      <td>JAY DIE</td>\n",
       "      <td>JAY</td>\n",
       "      <td>DIE</td>\n",
       "      <td>M</td>\n",
       "    </tr>\n",
       "    <tr>\n",
       "      <th>71519</th>\n",
       "      <td>JAY DOMINIC</td>\n",
       "      <td>JAY</td>\n",
       "      <td>DOMINIC</td>\n",
       "      <td>M</td>\n",
       "    </tr>\n",
       "    <tr>\n",
       "      <th>71520</th>\n",
       "      <td>JAY J</td>\n",
       "      <td>JAY</td>\n",
       "      <td>J</td>\n",
       "      <td>M</td>\n",
       "    </tr>\n",
       "    <tr>\n",
       "      <th>71521</th>\n",
       "      <td>JAY JAY</td>\n",
       "      <td>JAY</td>\n",
       "      <td>JAY</td>\n",
       "      <td>M</td>\n",
       "    </tr>\n",
       "    <tr>\n",
       "      <th>71522</th>\n",
       "      <td>JAY JUNIOR</td>\n",
       "      <td>JAY</td>\n",
       "      <td>JUNIOR</td>\n",
       "      <td>M</td>\n",
       "    </tr>\n",
       "    <tr>\n",
       "      <th>71523</th>\n",
       "      <td>JAY LEE</td>\n",
       "      <td>JAY</td>\n",
       "      <td>LEE</td>\n",
       "      <td>F</td>\n",
       "    </tr>\n",
       "    <tr>\n",
       "      <th>71524</th>\n",
       "      <td>JAY LEENA</td>\n",
       "      <td>JAY</td>\n",
       "      <td>LEENA</td>\n",
       "      <td>F</td>\n",
       "    </tr>\n",
       "    <tr>\n",
       "      <th>71525</th>\n",
       "      <td>JAY LEIGH</td>\n",
       "      <td>JAY</td>\n",
       "      <td>LEIGH</td>\n",
       "      <td>F</td>\n",
       "    </tr>\n",
       "    <tr>\n",
       "      <th>71526</th>\n",
       "      <td>JAY LIN</td>\n",
       "      <td>JAY</td>\n",
       "      <td>LIN</td>\n",
       "      <td>F</td>\n",
       "    </tr>\n",
       "    <tr>\n",
       "      <th>71527</th>\n",
       "      <td>JAY LOGAN</td>\n",
       "      <td>JAY</td>\n",
       "      <td>LOGAN</td>\n",
       "      <td>M</td>\n",
       "    </tr>\n",
       "    <tr>\n",
       "      <th>71528</th>\n",
       "      <td>JAY LYN</td>\n",
       "      <td>JAY</td>\n",
       "      <td>LYN</td>\n",
       "      <td>F</td>\n",
       "    </tr>\n",
       "    <tr>\n",
       "      <th>71529</th>\n",
       "      <td>JAY LYNN</td>\n",
       "      <td>JAY</td>\n",
       "      <td>LYNN</td>\n",
       "      <td>F</td>\n",
       "    </tr>\n",
       "    <tr>\n",
       "      <th>71530</th>\n",
       "      <td>JAY MICHAEL</td>\n",
       "      <td>JAY</td>\n",
       "      <td>MICHAEL</td>\n",
       "      <td>M</td>\n",
       "    </tr>\n",
       "    <tr>\n",
       "      <th>71531</th>\n",
       "      <td>JAY MOR</td>\n",
       "      <td>JAY</td>\n",
       "      <td>MOR</td>\n",
       "      <td>M</td>\n",
       "    </tr>\n",
       "    <tr>\n",
       "      <th>71532</th>\n",
       "      <td>JAY MYER</td>\n",
       "      <td>JAY</td>\n",
       "      <td>MYER</td>\n",
       "      <td>M</td>\n",
       "    </tr>\n",
       "    <tr>\n",
       "      <th>71533</th>\n",
       "      <td>JAY OLIVER</td>\n",
       "      <td>JAY</td>\n",
       "      <td>OLIVER</td>\n",
       "      <td>M</td>\n",
       "    </tr>\n",
       "    <tr>\n",
       "      <th>71534</th>\n",
       "      <td>JAY P</td>\n",
       "      <td>JAY</td>\n",
       "      <td>P</td>\n",
       "      <td>M</td>\n",
       "    </tr>\n",
       "    <tr>\n",
       "      <th>71535</th>\n",
       "      <td>JAY PETER</td>\n",
       "      <td>JAY</td>\n",
       "      <td>PETER</td>\n",
       "      <td>M</td>\n",
       "    </tr>\n",
       "    <tr>\n",
       "      <th>71536</th>\n",
       "      <td>JAY R</td>\n",
       "      <td>JAY</td>\n",
       "      <td>R</td>\n",
       "      <td>M</td>\n",
       "    </tr>\n",
       "    <tr>\n",
       "      <th>71537</th>\n",
       "      <td>JAY SCOTT</td>\n",
       "      <td>JAY</td>\n",
       "      <td>SCOTT</td>\n",
       "      <td>M</td>\n",
       "    </tr>\n",
       "    <tr>\n",
       "      <th>71538</th>\n",
       "      <td>JAY T</td>\n",
       "      <td>JAY</td>\n",
       "      <td>T</td>\n",
       "      <td>M</td>\n",
       "    </tr>\n",
       "    <tr>\n",
       "      <th>71539</th>\n",
       "      <td>JAY Z</td>\n",
       "      <td>JAY</td>\n",
       "      <td>Z</td>\n",
       "      <td>M</td>\n",
       "    </tr>\n",
       "  </tbody>\n",
       "</table>\n",
       "</div>"
      ],
      "text/plain": [
       "              raw_name first_name    last_name gender\n",
       "71509              JAY        JAY                   M\n",
       "71510         JAY ALEX        JAY         ALEX      M\n",
       "71511          JAY ANN        JAY          ANN      F\n",
       "71512           JAY AR        JAY           AR      M\n",
       "71513  JAY CHRISTOPHER        JAY  CHRISTOPHER      M\n",
       "71514            JAY D        JAY            D      M\n",
       "71515           JAY DE        JAY           DE      M\n",
       "71516         JAY DEAN        JAY         DEAN      F\n",
       "71517          JAY DEE        JAY          DEE      M\n",
       "71518          JAY DIE        JAY          DIE      M\n",
       "71519      JAY DOMINIC        JAY      DOMINIC      M\n",
       "71520            JAY J        JAY            J      M\n",
       "71521          JAY JAY        JAY          JAY      M\n",
       "71522       JAY JUNIOR        JAY       JUNIOR      M\n",
       "71523          JAY LEE        JAY          LEE      F\n",
       "71524        JAY LEENA        JAY        LEENA      F\n",
       "71525        JAY LEIGH        JAY        LEIGH      F\n",
       "71526          JAY LIN        JAY          LIN      F\n",
       "71527        JAY LOGAN        JAY        LOGAN      M\n",
       "71528          JAY LYN        JAY          LYN      F\n",
       "71529         JAY LYNN        JAY         LYNN      F\n",
       "71530      JAY MICHAEL        JAY      MICHAEL      M\n",
       "71531          JAY MOR        JAY          MOR      M\n",
       "71532         JAY MYER        JAY         MYER      M\n",
       "71533       JAY OLIVER        JAY       OLIVER      M\n",
       "71534            JAY P        JAY            P      M\n",
       "71535        JAY PETER        JAY        PETER      M\n",
       "71536            JAY R        JAY            R      M\n",
       "71537        JAY SCOTT        JAY        SCOTT      M\n",
       "71538            JAY T        JAY            T      M\n",
       "71539            JAY Z        JAY            Z      M"
      ]
     },
     "execution_count": 50,
     "metadata": {},
     "output_type": "execute_result"
    }
   ],
   "source": [
    "df.loc[df['first_name'] == 'JAY']"
   ]
  },
  {
   "cell_type": "code",
   "execution_count": 14,
   "metadata": {},
   "outputs": [],
   "source": [
    "def split_join_lastname(name):\n",
    "    name_list = name.split(' ')\n",
    "    return ' '.join(name_list[1:])"
   ]
  },
  {
   "cell_type": "code",
   "execution_count": 16,
   "metadata": {},
   "outputs": [],
   "source": [
    "df = pd.read_csv('names_with_space_char.csv', usecols=['name', 'gender'])\n",
    "df['first_name'] = df['name'].str.split(' ').str[0]\n",
    "# df['last_name'] = df['name'].str.split(' ').str[1] + ' ' + str[2]\n",
    "df['last_name'] = df['name'].apply(split_join_lastname)"
   ]
  },
  {
   "cell_type": "code",
   "execution_count": 17,
   "metadata": {},
   "outputs": [
    {
     "data": {
      "text/html": [
       "<div>\n",
       "<style scoped>\n",
       "    .dataframe tbody tr th:only-of-type {\n",
       "        vertical-align: middle;\n",
       "    }\n",
       "\n",
       "    .dataframe tbody tr th {\n",
       "        vertical-align: top;\n",
       "    }\n",
       "\n",
       "    .dataframe thead th {\n",
       "        text-align: right;\n",
       "    }\n",
       "</style>\n",
       "<table border=\"1\" class=\"dataframe\">\n",
       "  <thead>\n",
       "    <tr style=\"text-align: right;\">\n",
       "      <th></th>\n",
       "      <th>name</th>\n",
       "      <th>gender</th>\n",
       "      <th>first_name</th>\n",
       "      <th>last_name</th>\n",
       "    </tr>\n",
       "  </thead>\n",
       "  <tbody>\n",
       "    <tr>\n",
       "      <th>0</th>\n",
       "      <td>A HANNAN</td>\n",
       "      <td>M</td>\n",
       "      <td>A</td>\n",
       "      <td>HANNAN</td>\n",
       "    </tr>\n",
       "    <tr>\n",
       "      <th>1</th>\n",
       "      <td>A JAY</td>\n",
       "      <td>M</td>\n",
       "      <td>A</td>\n",
       "      <td>JAY</td>\n",
       "    </tr>\n",
       "    <tr>\n",
       "      <th>2</th>\n",
       "      <td>A K I L</td>\n",
       "      <td>M</td>\n",
       "      <td>A</td>\n",
       "      <td>K I L</td>\n",
       "    </tr>\n",
       "    <tr>\n",
       "      <th>3</th>\n",
       "      <td>A LAH</td>\n",
       "      <td>F</td>\n",
       "      <td>A</td>\n",
       "      <td>LAH</td>\n",
       "    </tr>\n",
       "    <tr>\n",
       "      <th>4</th>\n",
       "      <td>A RIN</td>\n",
       "      <td>F</td>\n",
       "      <td>A</td>\n",
       "      <td>RIN</td>\n",
       "    </tr>\n",
       "    <tr>\n",
       "      <th>5</th>\n",
       "      <td>A S M</td>\n",
       "      <td>M</td>\n",
       "      <td>A</td>\n",
       "      <td>S M</td>\n",
       "    </tr>\n",
       "    <tr>\n",
       "      <th>6</th>\n",
       "      <td>AA ISHAH</td>\n",
       "      <td>F</td>\n",
       "      <td>AA</td>\n",
       "      <td>ISHAH</td>\n",
       "    </tr>\n",
       "    <tr>\n",
       "      <th>7</th>\n",
       "      <td>AAD TY</td>\n",
       "      <td>M</td>\n",
       "      <td>AAD</td>\n",
       "      <td>TY</td>\n",
       "    </tr>\n",
       "    <tr>\n",
       "      <th>8</th>\n",
       "      <td>AAISHA MALEK</td>\n",
       "      <td>F</td>\n",
       "      <td>AAISHA</td>\n",
       "      <td>MALEK</td>\n",
       "    </tr>\n",
       "    <tr>\n",
       "      <th>9</th>\n",
       "      <td>AAISHAH AMINA</td>\n",
       "      <td>F</td>\n",
       "      <td>AAISHAH</td>\n",
       "      <td>AMINA</td>\n",
       "    </tr>\n",
       "  </tbody>\n",
       "</table>\n",
       "</div>"
      ],
      "text/plain": [
       "            name gender first_name last_name\n",
       "0       A HANNAN      M          A    HANNAN\n",
       "1          A JAY      M          A       JAY\n",
       "2        A K I L      M          A     K I L\n",
       "3          A LAH      F          A       LAH\n",
       "4          A RIN      F          A       RIN\n",
       "5          A S M      M          A       S M\n",
       "6       AA ISHAH      F         AA     ISHAH\n",
       "7         AAD TY      M        AAD        TY\n",
       "8   AAISHA MALEK      F     AAISHA     MALEK\n",
       "9  AAISHAH AMINA      F    AAISHAH     AMINA"
      ]
     },
     "execution_count": 17,
     "metadata": {},
     "output_type": "execute_result"
    }
   ],
   "source": [
    "df.head(10)"
   ]
  },
  {
   "cell_type": "code",
   "execution_count": 18,
   "metadata": {},
   "outputs": [],
   "source": [
    "df.to_csv('temp.csv')"
   ]
  },
  {
   "cell_type": "code",
   "execution_count": 19,
   "metadata": {},
   "outputs": [
    {
     "data": {
      "text/plain": [
       "(14624, 4)"
      ]
     },
     "execution_count": 19,
     "metadata": {},
     "output_type": "execute_result"
    }
   ],
   "source": [
    "df.shape"
   ]
  },
  {
   "cell_type": "code",
   "execution_count": 12,
   "metadata": {},
   "outputs": [
    {
     "data": {
      "text/plain": [
       "'maroti dhage'"
      ]
     },
     "execution_count": 12,
     "metadata": {},
     "output_type": "execute_result"
    }
   ],
   "source": [
    "li = ['venkati', 'maroti', 'dhage']\n",
    "' '.join(li[1:])\n"
   ]
  },
  {
   "cell_type": "code",
   "execution_count": null,
   "metadata": {},
   "outputs": [],
   "source": []
  }
 ],
 "metadata": {
  "kernelspec": {
   "display_name": "Python 3",
   "language": "python",
   "name": "python3"
  },
  "language_info": {
   "codemirror_mode": {
    "name": "ipython",
    "version": 3
   },
   "file_extension": ".py",
   "mimetype": "text/x-python",
   "name": "python",
   "nbconvert_exporter": "python",
   "pygments_lexer": "ipython3",
   "version": "3.8.3"
  }
 },
 "nbformat": 4,
 "nbformat_minor": 4
}
